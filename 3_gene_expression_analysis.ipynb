{
 "cells": [
  {
   "cell_type": "code",
   "execution_count": 1,
   "metadata": {},
   "outputs": [],
   "source": [
    "import abagen\n",
    "import pandas as pd\n",
    "import os\n",
    "import numpy as np\n",
    "from scipy import stats\n",
    "import seaborn as sns\n",
    "import matplotlib.pyplot as plt"
   ]
  },
  {
   "cell_type": "code",
   "execution_count": 2,
   "metadata": {},
   "outputs": [],
   "source": [
    "# fetch Allen human brain atlas\n",
    "if not os.path.exists('raw_data/Allen_exp_DK_atlas.csv'):\n",
    "    atlas = abagen.fetch_desikan_killiany()\n",
    "    DK_allen_exp = abagen.get_expression_data(atlas['image'], atlas['info'],missing='centroids',lr_mirror='leftright',\\\n",
    "                                             norm_structures='cortex').T\n",
    "    DK_allen_exp = DK_allen_exp.iloc[:,:-1]\n",
    "    DK_regions = pd.read_csv('raw_data/atlas/DK_atlas_regions.csv')['regions'].values.tolist()\n",
    "    DK_allen_exp.columns = DK_regions\n",
    "    DK_allen_exp.to_csv('raw_data/Allen_exp_DK_atlas.csv')\n",
    "else:\n",
    "    DK_allen_exp = pd.read_csv('raw_data/Allen_exp_DK_atlas.csv').set_index('gene_symbol')"
   ]
  },
  {
   "cell_type": "code",
   "execution_count": 3,
   "metadata": {},
   "outputs": [],
   "source": [
    "# load association results\n",
    "CT_corr = pd.read_csv('results/imaging_associations/CT_corr_PC1.csv')\n",
    "funcPC1 = pd.read_csv('results/imaging_associations/func_PCs.csv')\n",
    "\n",
    "y1 = CT_corr.iloc[:,0].values\n",
    "y2 = funcPC1.iloc[:,0].values"
   ]
  },
  {
   "cell_type": "code",
   "execution_count": 4,
   "metadata": {},
   "outputs": [],
   "source": [
    "regions = CT_corr['regions'].values.tolist()\n",
    "DK_allen_exp = DK_allen_exp[regions]"
   ]
  },
  {
   "cell_type": "code",
   "execution_count": 5,
   "metadata": {},
   "outputs": [],
   "source": [
    "# load GWAS for PC1 of four risky behaviors\n",
    "sig_MAGMA_data = pd.read_csv('raw_data/GWAS_sig_genes.txt',sep='\\t')\n",
    "sig_genes = list(set(sig_MAGMA_data['symbol'].values.tolist()))"
   ]
  },
  {
   "cell_type": "code",
   "execution_count": 6,
   "metadata": {},
   "outputs": [],
   "source": [
    "numbers = sig_MAGMA_data['symbol'].values.tolist()\n",
    "duplicates = [number for number in numbers if numbers.count(number) > 1]"
   ]
  },
  {
   "cell_type": "code",
   "execution_count": 7,
   "metadata": {},
   "outputs": [],
   "source": [
    "allen_genes = DK_allen_exp.index.tolist()\n",
    "com_genes = list(set(allen_genes) & set(sig_genes))\n",
    "added_col = []\n",
    "for number in numbers:\n",
    "    if number in com_genes:\n",
    "        added_col.append(1)\n",
    "    else:\n",
    "        added_col.append(0)\n",
    "sig_MAGMA_data['overlapping status with AHBA'] = added_col\n",
    "sig_MAGMA_data.to_csv('raw_data/GWAS_sig_genes2.csv',index=False)"
   ]
  },
  {
   "cell_type": "code",
   "execution_count": 8,
   "metadata": {},
   "outputs": [
    {
     "name": "stderr",
     "output_type": "stream",
     "text": [
      "/data/sliu/anaconda3/lib/python3.7/site-packages/statsmodels/tools/_testing.py:19: FutureWarning: pandas.util.testing is deprecated. Use the functions in the public API at pandas.testing instead.\n",
      "  import pandas.util.testing as tm\n"
     ]
    }
   ],
   "source": [
    "# FDR multiple comparison correction\n",
    "from statsmodels.stats import multitest\n",
    "def fdr_correction(data):\n",
    "    Ps = multitest.multipletests(data,alpha=0.05,method='fdr_bh')\n",
    "    return Ps[1]"
   ]
  },
  {
   "cell_type": "code",
   "execution_count": 9,
   "metadata": {},
   "outputs": [],
   "source": [
    "# association analysis based on genes related to risky behaviors\n",
    "re_com_genes_CT = np.zeros((len(com_genes),2))\n",
    "re_com_genes_funcPC1 = np.zeros((len(com_genes),2))\n",
    "for i in range(len(com_genes)):\n",
    "    gene = com_genes[i]\n",
    "    x = DK_allen_exp.loc[gene].values\n",
    "    re_com_genes_CT[i,0],re_com_genes_CT[i,1] = stats.spearmanr(x,y1)\n",
    "    re_com_genes_funcPC1[i,0],re_com_genes_funcPC1[i,1] = stats.spearmanr(x,y2)"
   ]
  },
  {
   "cell_type": "code",
   "execution_count": 10,
   "metadata": {},
   "outputs": [],
   "source": [
    "df_com_genes_CT = pd.DataFrame(data=re_com_genes_CT,columns=['r','p'])\n",
    "df_com_genes_CT['fdr_p'] = fdr_correction(df_com_genes_CT['p'].values)\n",
    "df_com_genes_CT['genes'] = com_genes\n",
    "df_com_genes_CT.sort_values(by=['p'],inplace=True)\n",
    "df_com_genes_CT.to_csv('results/expression_associations/sig_genes_CT.csv',index=False)\n",
    "\n",
    "df_com_genes_funcPC1 = pd.DataFrame(data=re_com_genes_funcPC1,columns=['r','p'])\n",
    "df_com_genes_funcPC1['fdr_p'] = fdr_correction(df_com_genes_funcPC1['p'].values)\n",
    "df_com_genes_funcPC1['genes'] = com_genes\n",
    "df_com_genes_funcPC1.sort_values(by=['p'],inplace=True)\n",
    "df_com_genes_funcPC1.to_csv('results/expression_associations/sig_genes_funcPC1.csv',index=False)"
   ]
  },
  {
   "cell_type": "code",
   "execution_count": 11,
   "metadata": {},
   "outputs": [
    {
     "name": "stdout",
     "output_type": "stream",
     "text": [
      "explained variance ratio of PCs for allen genes: [0.3034 0.1884 0.0979 0.0805 0.0575 0.0465 0.0332 0.0306 0.0218 0.0157]\n",
      "PC1 vs CT 0.15793923327478882 0.20531435827267436\n",
      "PC1 vs funcPC1 0.19824859878544399 0.1105582701427999\n",
      "PC2 vs CT 0.1672494233409474 0.17951302993918686\n",
      "PC2 vs funcPC1 -0.37910843451010307 0.0016945649160152022\n"
     ]
    }
   ],
   "source": [
    "# global analysis\n",
    "from sklearn.decomposition import PCA\n",
    "from sklearn.preprocessing import StandardScaler\n",
    "X = DK_allen_exp.values.T\n",
    "X = StandardScaler().fit_transform(X)\n",
    "pca = PCA(n_components=10)\n",
    "pca_exp = pca.fit(X)\n",
    "X_c = stats.zscore(pca_exp.transform(X),axis=0)\n",
    "print(\"explained variance ratio of PCs for allen genes:\",np.round(pca_exp.explained_variance_ratio_,4))\n",
    "\n",
    "cols = []\n",
    "for i in range(10):\n",
    "    cols.append('PC'+str(i+1))\n",
    "df_PCs = pd.DataFrame(data=X_c,columns=cols)\n",
    "df_PCs['regions'] = regions\n",
    "df_PCs.to_csv('results/expression_associations/gene_PCs.csv',index=False)\n",
    "\n",
    "r1,p1 = stats.spearmanr(X_c[:,0],y1)\n",
    "print(\"PC1 vs CT\",r1,p1)\n",
    "r2,p2 = stats.spearmanr(X_c[:,0],y2)\n",
    "print(\"PC1 vs funcPC1\",r2,p2)\n",
    "\n",
    "r1,p1 = stats.spearmanr(X_c[:,1],y1)\n",
    "print(\"PC2 vs CT\",r1,p1)\n",
    "r2,p2 = stats.spearmanr(X_c[:,1],y2)\n",
    "print(\"PC2 vs funcPC1\",r2,p2)"
   ]
  },
  {
   "cell_type": "code",
   "execution_count": 12,
   "metadata": {},
   "outputs": [
    {
     "data": {
      "image/png": "[encoded data removed]",
      "text/plain": [
       "<Figure size 432x576 with 1 Axes>"
      ]
     },
     "metadata": {},
     "output_type": "display_data"
    }
   ],
   "source": [
    "# plot the explained variance of PCs of allen gene expression matrix\n",
    "tmpdata = pd.DataFrame(data=np.round(pca_exp.explained_variance_ratio_,4)*100,columns=['variance'])\n",
    "PCs = []\n",
    "for i in range(10):\n",
    "    PCs.append('PC'+str(i+1))\n",
    "tmpdata['PCs'] = PCs\n",
    "\n",
    "sns.set_theme(style=\"whitegrid\")\n",
    "f, ax = plt.subplots(figsize=(6,8))\n",
    "\n",
    "sns.barplot(x=\"variance\", y=\"PCs\", data=tmpdata, palette = \"husl\")\n",
    "for patch in ax.patches :\n",
    "    patch.set_height(0.5)\n",
    "\n",
    "ax.set_yticklabels(np.arange(10)+1, size = 20)\n",
    "ax.set_xticklabels([0,5,10,15,20,25,30], size = 20)\n",
    "plt.xlabel('Explained variance (%)',fontsize=20)\n",
    "plt.ylabel('Principal components',fontsize=20)\n",
    "ax.xaxis.grid(True,linewidth=2)\n",
    "ax.spines['top'].set_linewidth(2)\n",
    "ax.spines['bottom'].set_linewidth(2)\n",
    "ax.spines['left'].set_linewidth(2)\n",
    "ax.spines['right'].set_linewidth(2)\n",
    "plt.savefig('results/statistical_figures/all_genes_explained_variance.png', dpi=300,bbox_inches = 'tight')"
   ]
  },
  {
   "cell_type": "code",
   "execution_count": 13,
   "metadata": {},
   "outputs": [],
   "source": [
    "# calculate the transcriptional relationships for all genes\n",
    "all_genes_corrs_CT = np.zeros((X.shape[1],2))\n",
    "all_genes_corrs_funcPC1 = np.zeros((X.shape[1],2))\n",
    "for j in range(X.shape[1]):\n",
    "    x = X[:,j]\n",
    "    all_genes_corrs_CT[j,0],all_genes_corrs_CT[j,1] = stats.spearmanr(x,y1)\n",
    "    all_genes_corrs_funcPC1[j,0],all_genes_corrs_funcPC1[j,1] = stats.spearmanr(x,y2)\n",
    "    \n",
    "df_all_genes_CT = pd.DataFrame(data=all_genes_corrs_CT,columns=['r','p'])\n",
    "df_all_genes_CT['fdr_p'] = fdr_correction(df_all_genes_CT['p'].values)\n",
    "df_all_genes_CT['genes'] = allen_genes\n",
    "df_all_genes_CT.sort_values(by=['p'],inplace=True)\n",
    "df_all_genes_CT.to_csv('results/expression_associations/all_genes_CT.csv',index=False)\n",
    "\n",
    "df_all_genes_funcPC1 = pd.DataFrame(data=all_genes_corrs_funcPC1,columns=['r','p'])\n",
    "df_all_genes_funcPC1['fdr_p'] = fdr_correction(df_all_genes_funcPC1['p'].values)\n",
    "df_all_genes_funcPC1['genes'] = allen_genes\n",
    "df_all_genes_funcPC1.sort_values(by=['p'],inplace=True)\n",
    "df_all_genes_funcPC1.to_csv('results/expression_associations/all_genes_funcPC1.csv',index=False)"
   ]
  },
  {
   "cell_type": "code",
   "execution_count": null,
   "metadata": {},
   "outputs": [],
   "source": []
  }
 ],
 "metadata": {
  "kernelspec": {
   "display_name": "Python 3",
   "language": "python",
   "name": "python3"
  },
  "language_info": {
   "codemirror_mode": {
    "name": "ipython",
    "version": 3
   },
   "file_extension": ".py",
   "mimetype": "text/x-python",
   "name": "python",
   "nbconvert_exporter": "python",
   "pygments_lexer": "ipython3",
   "version": "3.7.3"
  }
 },
 "nbformat": 4,
 "nbformat_minor": 2
}
