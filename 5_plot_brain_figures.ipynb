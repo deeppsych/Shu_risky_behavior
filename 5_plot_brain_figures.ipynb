{
 "cells": [
  {
   "cell_type": "code",
   "execution_count": 1,
   "metadata": {},
   "outputs": [
    {
     "name": "stderr",
     "output_type": "stream",
     "text": [
      "/data/sliu/anaconda3/lib/python3.7/site-packages/nilearn/datasets/__init__.py:96: FutureWarning: Fetchers from the nilearn.datasets module will be updated in version 0.9 to return python strings instead of bytes and Pandas dataframes instead of Numpy arrays.\n",
      "  \"Numpy arrays.\", FutureWarning)\n"
     ]
    }
   ],
   "source": [
    "import pandas as pd\n",
    "import numpy as np\n",
    "from nilearn import plotting\n",
    "import matplotlib.pyplot as plt\n",
    "from nilearn import surface\n",
    "from nilearn import datasets"
   ]
  },
  {
   "cell_type": "code",
   "execution_count": 2,
   "metadata": {},
   "outputs": [],
   "source": [
    "def plot_DK_brain_figures(diff_path,colname,mytype,tmax=None,sig_t=None):\n",
    "    \n",
    "    lh_atlas = surface.load_surf_data('raw_data/atlas/lh.aparc.annot')\n",
    "    rh_atlas = surface.load_surf_data('raw_data/atlas/rh.aparc.annot')\n",
    "\n",
    "    imaging_diff = pd.read_csv(diff_path)\n",
    "    regions = imaging_diff['regions'].values.tolist()\n",
    "    mapping_matrix = pd.read_csv('raw_data/atlas/value_to_region_table.csv').set_index('regions')\n",
    "    mapping_matrix = mapping_matrix.loc[regions]\n",
    "    region_ids = mapping_matrix['value'].values\n",
    "    plot_values = imaging_diff[colname].values\n",
    "\n",
    "    s1 = lh_atlas.shape\n",
    "    l_mask = np.zeros(s1)\n",
    "    s2 = rh_atlas.shape\n",
    "    r_mask = np.zeros(s2)\n",
    "    \n",
    "    for i in range(len(regions)):\n",
    "        region = regions[i]\n",
    "        region_id = region_ids[i]\n",
    "        if region[4:6] == 'lh':\n",
    "            l_mask[lh_atlas == region_id] = plot_values[i]\n",
    "        else:\n",
    "            r_mask[rh_atlas == region_id] = plot_values[i]\n",
    "        \n",
    "    fsaverage = datasets.fetch_surf_fsaverage(mesh='fsaverage5')\n",
    "    \n",
    "    plotting.plot_surf_stat_map(fsaverage['pial_left'], stat_map=l_mask,\n",
    "                                hemi='left', view='lateral', cmap='RdBu', colorbar=True,vmax=tmax,\n",
    "                                bg_map=fsaverage['sulc_left'], bg_on_data=True,\n",
    "                                darkness=.5,output_file='results/brain_figures/'+mytype+'_T_map_left_lateral.png')\n",
    "\n",
    "    plotting.plot_surf_stat_map(fsaverage['pial_left'], stat_map=l_mask,\n",
    "                                hemi='left', view='medial', cmap='RdBu', colorbar=True,vmax=tmax,\n",
    "                                bg_map=fsaverage['sulc_left'], bg_on_data=True,\n",
    "                                darkness=.5,output_file='results/brain_figures/'+mytype+'_T_map_left_medial.png')\n",
    "\n",
    "\n",
    "    plotting.plot_surf_stat_map(fsaverage['pial_right'], stat_map=r_mask,\n",
    "                                hemi='right', view='medial', cmap='RdBu', colorbar=True,vmax=tmax,\n",
    "                                bg_map=fsaverage['sulc_right'], bg_on_data=True,\n",
    "                                darkness=0.5,output_file='results/brain_figures/'+mytype+'_T_map_right_medial.png')\n",
    "\n",
    "    plotting.plot_surf_stat_map(fsaverage['pial_right'], stat_map=r_mask,\n",
    "                                hemi='right', view='lateral', cmap='RdBu', colorbar=True,vmax=tmax,\n",
    "                                bg_map=fsaverage['sulc_right'], bg_on_data=True,\n",
    "                                darkness=.5,output_file='results/brain_figures/'+mytype+'_T_map_right_lateral.png')\n",
    "\n",
    "    if sig_t != None:\n",
    "        plotting.plot_surf_stat_map(fsaverage['pial_left'], stat_map=l_mask,\n",
    "                                hemi='left', view='lateral', cmap='RdBu', colorbar=True,\n",
    "                                bg_map=fsaverage['sulc_left'], bg_on_data=True, threshold=sig_t,vmax=tmax,\n",
    "                                darkness=.5,output_file='results/brain_figures/sig_'+mytype+'_T_map_left_lateral.png')\n",
    "\n",
    "        plotting.plot_surf_stat_map(fsaverage['pial_left'], stat_map=l_mask,\n",
    "                                    hemi='left', view='medial', cmap='RdBu', colorbar=True,\n",
    "                                    bg_map=fsaverage['sulc_left'], bg_on_data=True,threshold=sig_t,vmax=tmax,\n",
    "                                    darkness=.5,output_file='results/brain_figures/sig_'+mytype+'_T_map_left_medial.png')\n",
    "\n",
    "\n",
    "        plotting.plot_surf_stat_map(fsaverage['pial_right'], stat_map=r_mask,\n",
    "                                    hemi='right', view='medial', cmap='RdBu', colorbar=True,\n",
    "                                    bg_map=fsaverage['sulc_right'], bg_on_data=True,threshold=sig_t,vmax=tmax,\n",
    "                                    darkness=.5,output_file='results/brain_figures/sig_'+mytype+'_T_map_right_medial.png')\n",
    "\n",
    "        plotting.plot_surf_stat_map(fsaverage['pial_right'], stat_map=r_mask,\n",
    "                                    hemi='right', view='lateral', cmap='RdBu', colorbar=True,\n",
    "                                    bg_map=fsaverage['sulc_right'], bg_on_data=True,threshold=sig_t,vmax=tmax,\n",
    "                                    darkness=.5,output_file='results/brain_figures/sig_'+mytype+'_T_map_right_lateral.png')"
   ]
  },
  {
   "cell_type": "code",
   "execution_count": 3,
   "metadata": {},
   "outputs": [],
   "source": [
    "CT_corr_path = 'results/imaging_associations/CT_corr_PC1.csv'\n",
    "CSA_corr_path = 'results/imaging_associations/CSA_corr_PC1.csv'\n",
    "ALFF_corr_path = 'results/imaging_associations/ALFF_corr_PC1.csv'\n",
    "ReHo_corr_path = 'results/imaging_associations/ReHo_corr_PC1.csv'"
   ]
  },
  {
   "cell_type": "code",
   "execution_count": 5,
   "metadata": {},
   "outputs": [],
   "source": [
    "plot_DK_brain_figures(CT_corr_path,'r','CT',tmax=0.05,sig_t=0.02)\n",
    "plot_DK_brain_figures(CSA_corr_path,'r','CSA',tmax=0.05,sig_t=0.02)\n",
    "plot_DK_brain_figures(ALFF_corr_path,'r','ALFF',tmax=0.05,sig_t=0.016)\n",
    "plot_DK_brain_figures(ReHo_corr_path,'r','ReHo',tmax=0.05,sig_t=0.016)"
   ]
  },
  {
   "cell_type": "code",
   "execution_count": 6,
   "metadata": {},
   "outputs": [],
   "source": [
    "funcPC_path = 'results/imaging_associations/func_PCs.csv'\n",
    "plot_DK_brain_figures(funcPC_path,'PC1','funcPC1',tmax=2)"
   ]
  },
  {
   "cell_type": "code",
   "execution_count": 8,
   "metadata": {},
   "outputs": [],
   "source": [
    "# GWASPC_path = 'results/expression_associations/genes_PCs.csv'\n",
    "# plot_DK_brain_figures(GWASPC_path,'PC1','GWASPC1',tmax=2.8)\n",
    "# plot_DK_brain_figures(GWASPC_path,'PC2','GWASPC2',tmax=2.8)"
   ]
  },
  {
   "cell_type": "code",
   "execution_count": 9,
   "metadata": {},
   "outputs": [],
   "source": [
    "allgenePC_path = 'results/expression_associations/gene_PCs.csv'\n",
    "plot_DK_brain_figures(allgenePC_path,'PC1','allgenesPC1',tmax=2.6,sig_t=1.96)\n",
    "plot_DK_brain_figures(allgenePC_path,'PC2','allgenesPC2',tmax=2.6,sig_t=1.96)"
   ]
  },
  {
   "cell_type": "code",
   "execution_count": 11,
   "metadata": {},
   "outputs": [],
   "source": [
    "# CT_pos_PC_path = 'results/expression_associations/CT_pos_genes_PCs.csv'\n",
    "# plot_DK_brain_figures(CT_pos_PC_path,'PC1','CT_pos_PC1',tmax=3)\n",
    "\n",
    "# CT_neg_PC_path = 'results/expression_associations/CT_neg_genes_PCs.csv'\n",
    "# plot_DK_brain_figures(CT_neg_PC_path,'PC1','CT_neg_PC1',tmax=3)\n",
    "\n",
    "# funcPC1_pos_PC_path = 'results/expression_associations/funcPC1_pos_genes_PCs.csv'\n",
    "# plot_DK_brain_figures(funcPC1_pos_PC_path,'PC1','funcPC1_pos_PC1',tmax=3)\n",
    "\n",
    "# funcPC1_neg_PC_path = 'results/expression_associations/funcPC1_neg_genes_PCs.csv'\n",
    "# plot_DK_brain_figures(funcPC1_neg_PC_path,'PC1','funcPC1_neg_PC1',tmax=3)"
   ]
  },
  {
   "cell_type": "code",
   "execution_count": 12,
   "metadata": {},
   "outputs": [],
   "source": [
    "CADM2_path = 'results/expression_associations/CADM2_exp.csv'\n",
    "plot_DK_brain_figures(CADM2_path,'CADM2','CADM2',tmax=3.2)"
   ]
  },
  {
   "cell_type": "code",
   "execution_count": null,
   "metadata": {},
   "outputs": [],
   "source": []
  }
 ],
 "metadata": {
  "kernelspec": {
   "display_name": "Python 3",
   "language": "python",
   "name": "python3"
  },
  "language_info": {
   "codemirror_mode": {
    "name": "ipython",
    "version": 3
   },
   "file_extension": ".py",
   "mimetype": "text/x-python",
   "name": "python",
   "nbconvert_exporter": "python",
   "pygments_lexer": "ipython3",
   "version": "3.7.3"
  }
 },
 "nbformat": 4,
 "nbformat_minor": 2
}
