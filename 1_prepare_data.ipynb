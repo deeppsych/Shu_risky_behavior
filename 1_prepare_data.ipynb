{
 "cells": [
  {
   "cell_type": "code",
   "execution_count": 1,
   "metadata": {},
   "outputs": [],
   "source": [
    "import pandas as pd\n",
    "pd.options.mode.chained_assignment = None\n",
    "import numpy as np\n",
    "import os"
   ]
  },
  {
   "cell_type": "code",
   "execution_count": 2,
   "metadata": {},
   "outputs": [],
   "source": [
    "# load risky behaviors, IQ, and education\n",
    "temp1 = pd.read_csv('/dbstore/ukbb_cognition/ukb669679.csv')\n",
    "s1 = ['eid','1100-2.0','2040-2.0','2149-2.0','20160-2.0','20016-2.0','6138-2.0']\n",
    "pheno1 = temp1[s1]\n",
    "pheno1.dropna(how='any',inplace=True)\n",
    "pheno1.drop_duplicates(subset=['eid'],inplace=True)"
   ]
  },
  {
   "cell_type": "code",
   "execution_count": 3,
   "metadata": {},
   "outputs": [],
   "source": [
    "# filering precedures:\n",
    "# removing subjects with values of -1 (Do not know) or -3 (Prefer not to answer)\n",
    "# 1100 (driving): remove 5 (do not drive)\n",
    "pheno1 = pheno1[pheno1['1100-2.0'] > -0.5]\n",
    "pheno1 = pheno1[pheno1['2040-2.0'] > -0.5]\n",
    "pheno1 = pheno1[pheno1['2149-2.0'] > -0.5]\n",
    "pheno1 = pheno1[pheno1['20160-2.0'] > -0.5]\n",
    "pheno1 = pheno1[pheno1['1100-2.0'] < 5]"
   ]
  },
  {
   "cell_type": "code",
   "execution_count": 8,
   "metadata": {},
   "outputs": [],
   "source": [
    "# load alcoholic drinks per week\n",
    "pheno2 = pd.read_csv('raw_data/alcohol.csv')\n",
    "pheno2 = pheno2.rename(columns={\"value\": \"Alc\"})"
   ]
  },
  {
   "cell_type": "code",
   "execution_count": 9,
   "metadata": {},
   "outputs": [],
   "source": [
    "# transformant of educational attainment\n",
    "# 1\tCollege or University degree   --> 20\n",
    "# 2\tA levels/AS levels or equivalent --> 13\n",
    "# 3\tO levels/GCSEs or equivalent --> 10\n",
    "# 4\tCSEs or equivalent --> 10\n",
    "# 5\tNVQ or HND or HNC or equivalent -->19\n",
    "# 6\tOther professional qualifications eg: nursing, teaching --> 15\n",
    "# -7\tNone of the above -->7\n",
    "# -3\tPrefer not to answer --> remove\n",
    "\n",
    "dl = []\n",
    "for i in range(pheno1.shape[0]):\n",
    "    if pheno1['6138-2.0'].iloc[i] == -3:\n",
    "        dl.append(pheno1.index[i])\n",
    "    if pheno1['6138-2.0'].iloc[i] == 1:\n",
    "        pheno1['6138-2.0'].iloc[i] = 20\n",
    "    if pheno1['6138-2.0'].iloc[i] == 2:\n",
    "        pheno1['6138-2.0'].iloc[i] = 13\n",
    "    if pheno1['6138-2.0'].iloc[i] == 3:\n",
    "        pheno1['6138-2.0'].iloc[i] = 10\n",
    "    if pheno1['6138-2.0'].iloc[i] == 4:\n",
    "        pheno1['6138-2.0'].iloc[i] = 10\n",
    "    if pheno1['6138-2.0'].iloc[i] == 5:\n",
    "        pheno1['6138-2.0'].iloc[i] = 19 \n",
    "    if pheno1['6138-2.0'].iloc[i] == 6:\n",
    "        pheno1['6138-2.0'].iloc[i] = 15\n",
    "    if pheno1['6138-2.0'].iloc[i] == -7:\n",
    "        pheno1['6138-2.0'].iloc[i] = 7\n",
    "\n",
    "pheno1.drop(dl,inplace=True)"
   ]
  },
  {
   "cell_type": "code",
   "execution_count": 6,
   "metadata": {},
   "outputs": [
    {
     "name": "stdout",
     "output_type": "stream",
     "text": [
      "Number of individuals that report risky behaviors at the imaging visit: 36439\n"
     ]
    }
   ],
   "source": [
    "# merge pheno1 and pheno2\n",
    "mdata = pd.concat([pheno1.set_index('eid'),pheno2.set_index('eid')], join='inner',axis=1)\n",
    "mdata = pd.merge(pheno1,pheno2,on='eid',how='inner')\n",
    "s3 = ['eid','1100-2.0','2040-2.0','2149-2.0','20160-2.0','Alc','20016-2.0','6138-2.0']\n",
    "mdata = mdata[s3]\n",
    "print(\"Number of individuals that report risky behaviors at the imaging visit:\",mdata.shape[0])"
   ]
  },
  {
   "cell_type": "code",
   "execution_count": 8,
   "metadata": {},
   "outputs": [],
   "source": [
    "# load CSA data\n",
    "area_items1 = pd.read_csv('raw_data/DK_CSA_items.csv')\n",
    "s1 = ['eid']\n",
    "for i in range(area_items1.shape[0]):\n",
    "    s1.append(str(area_items1.iloc[i,0])+'-2.0')\n",
    "    \n",
    "data1 = pd.read_csv('/dbstore/UKBiobank/Data_Download_02JULY2020/ukb42608.csv',usecols=s1)\n",
    "data1.dropna(axis=0,how='any',inplace=True)\n",
    "\n",
    "\n",
    "# load CT data\n",
    "thickness_items1 = pd.read_csv('raw_data/DK_CT_items.csv')\n",
    "s2= ['eid']\n",
    "for i in range(thickness_items1.shape[0]):\n",
    "    s2.append(str(thickness_items1.iloc[i,0])+'-2.0')\n",
    "\n",
    "data2 = pd.read_csv('/dbstore/UKBiobank/Data_Download_02JULY2020/ukb42608.csv',usecols=s2)\n",
    "data2.dropna(axis=0,how='any',inplace=True)"
   ]
  },
  {
   "cell_type": "code",
   "execution_count": 11,
   "metadata": {},
   "outputs": [],
   "source": [
    "# select participants with both structural and functional imaging data\n",
    "import os\n",
    "fMRI_path = '/dbstore/UKBiobank/RSFMRI'\n",
    "files = os.listdir(fMRI_path)\n",
    "rsfmri_list = []\n",
    "for f in files:\n",
    "    if f[-7:] == '2_0.zip':\n",
    "        file_path = os.path.join(fMRI_path,f)\n",
    "        fMRI_size = os.path.getsize(file_path)\n",
    "        if fMRI_size > 400000654:\n",
    "            rsfmri_list.append(int(f[:7]))\n",
    "\n",
    "smri_list = list(data1['eid'].values)\n",
    "subjs = list(set(rsfmri_list) & set(smri_list))\n",
    "\n",
    "fdata1 = data1.set_index('eid')\n",
    "fdata11 = fdata1.loc[subjs]\n",
    "fdata11.reset_index(inplace=True)\n",
    "fdata2 = data2.set_index('eid')\n",
    "fdata22 = fdata2.loc[subjs]\n",
    "fdata22.reset_index(inplace=True)"
   ]
  },
  {
   "cell_type": "code",
   "execution_count": 13,
   "metadata": {},
   "outputs": [],
   "source": [
    "# loading global brain measures including head motion (25741), total brain volume (25005), total CSA, average CT, and ICV\n",
    "cols = ['eid','25741-2.0','25005-2.0']\n",
    "\n",
    "total_items = pd.read_csv('raw_data/global_brain_items.csv')\n",
    "for i in range(total_items.shape[0]):\n",
    "    cols.append(str(total_items.iloc[i,0])+'-2.0')\n",
    "\n",
    "l = fdata11['eid'].values\n",
    "temp3 = pd.read_csv('/dbstore/UKBiobank/Data_Download_02JULY2020/ukb42608.csv',usecols=cols)\n",
    "temp3.set_index('eid',inplace=True)\n",
    "pheno3 = temp3.loc[l]\n",
    "pheno3.reset_index(inplace=True)"
   ]
  },
  {
   "cell_type": "code",
   "execution_count": 14,
   "metadata": {},
   "outputs": [],
   "source": [
    "# load age and sex\n",
    "cols2 = ['eid','31-0.0','21003-2.0']\n",
    "temp4 = pd.read_csv('/dbstore/ukbb_cognition/ukb669603.csv',usecols=cols2)\n",
    "temp4.dropna(how='any',inplace=True)"
   ]
  },
  {
   "cell_type": "code",
   "execution_count": 16,
   "metadata": {},
   "outputs": [],
   "source": [
    "# save merged data\n",
    "imaging_data = pd.merge(fdata11,fdata22,on='eid',how='inner')\n",
    "co_data = pd.merge(pheno3,temp4,on='eid',how='inner')\n",
    "tdata = pd.merge(mdata,imaging_data,on='eid',how='inner')\n",
    "tdata = pd.merge(tdata,co_data,on='eid',how='inner')\n",
    "\n",
    "tdata.to_csv('raw_data/merged_data.csv',index=False)"
   ]
  },
  {
   "cell_type": "code",
   "execution_count": null,
   "metadata": {},
   "outputs": [],
   "source": []
  }
 ],
 "metadata": {
  "kernelspec": {
   "display_name": "Python 3",
   "language": "python",
   "name": "python3"
  },
  "language_info": {
   "codemirror_mode": {
    "name": "ipython",
    "version": 3
   },
   "file_extension": ".py",
   "mimetype": "text/x-python",
   "name": "python",
   "nbconvert_exporter": "python",
   "pygments_lexer": "ipython3",
   "version": "3.7.3"
  }
 },
 "nbformat": 4,
 "nbformat_minor": 2
}
